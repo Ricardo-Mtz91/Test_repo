{
 "cells": [
  {
   "cell_type": "markdown",
   "id": "ec866442-3457-4477-95c9-e6de99c9eb9e",
   "metadata": {},
   "source": [
    "# Data Science Tools and Ecosystem"
   ]
  },
  {
   "cell_type": "markdown",
   "id": "39a5af5d-16ea-45ab-82cd-9f6fc1537431",
   "metadata": {},
   "source": [
    "## In this notebook, Data Science Tools and Ecosystem are summarized."
   ]
  },
  {
   "cell_type": "markdown",
   "id": "614854cd-edd5-4c08-94cb-9a5c6075fbc3",
   "metadata": {},
   "source": [
    "__Objectives:__\n",
    "+ List popular lenguages of data science\n",
    "+ List commonly used libraries used by data scientists\n",
    "+ Use a Jupyter Notebook"
   ]
  },
  {
   "cell_type": "markdown",
   "id": "a23e72d6-4f31-4051-a353-c2625ff5685f",
   "metadata": {},
   "source": [
    "### Some of the popular languages that Data Scientists use are:\n",
    "1. Python\n",
    "2. R\n",
    "3. Julia"
   ]
  },
  {
   "cell_type": "markdown",
   "id": "a5208dd9-eb64-443d-95d8-76b963eb6e8d",
   "metadata": {},
   "source": [
    "### Some of the commonly used libraries used by Data Scientists include:\n",
    "1. Pandas\n",
    "2. NumPy\n",
    "3. Matplotlib"
   ]
  },
  {
   "cell_type": "markdown",
   "id": "5216677b-76e5-4461-9113-34a23138bd21",
   "metadata": {},
   "source": [
    "| Data Science Tools:|\n",
    "|--------------------|\n",
    "| Jupyter Notebook |\n",
    "| RStudios |\n",
    "| VS Code |\n"
   ]
  },
  {
   "cell_type": "markdown",
   "id": "f906b87a-74a2-4f87-af2a-b6c2dffe8487",
   "metadata": {},
   "source": [
    "### Below are a few examples of evaluating arithmetic expressions in Python\n"
   ]
  },
  {
   "cell_type": "code",
   "execution_count": 5,
   "id": "6e7d9a44-733c-475d-ab08-c586f70dcbb9",
   "metadata": {},
   "outputs": [
    {
     "data": {
      "text/plain": [
       "17"
      ]
     },
     "execution_count": 5,
     "metadata": {},
     "output_type": "execute_result"
    }
   ],
   "source": [
    " # This a simple arithmetic expression to mutiply then add integers\n",
    "(3*4)+5"
   ]
  },
  {
   "cell_type": "code",
   "execution_count": 4,
   "id": "5595d315-6f01-46cd-837a-7e4182fc03cb",
   "metadata": {},
   "outputs": [
    {
     "name": "stdout",
     "output_type": "stream",
     "text": [
      "3.3333333333333335\n"
     ]
    }
   ],
   "source": [
    "#  This will convert 200 minutes to hours by diving by 60\n",
    "Minutes = 200\n",
    "One_Hour = 60\n",
    "Converted_time = Minutes / One_Hour\n",
    "print (Converted_time)\n"
   ]
  },
  {
   "cell_type": "markdown",
   "id": "bab07e2c-967b-4ec7-accb-2c710baa5c4c",
   "metadata": {},
   "source": [
    "## Author\n",
    "Ricardo Martinez Munoz"
   ]
  },
  {
   "cell_type": "code",
   "execution_count": null,
   "id": "d9ea4c44-c509-4f27-83b2-8179fb8410c0",
   "metadata": {},
   "outputs": [],
   "source": []
  }
 ],
 "metadata": {
  "kernelspec": {
   "display_name": "Python 3 (ipykernel)",
   "language": "python",
   "name": "python3"
  },
  "language_info": {
   "codemirror_mode": {
    "name": "ipython",
    "version": 3
   },
   "file_extension": ".py",
   "mimetype": "text/x-python",
   "name": "python",
   "nbconvert_exporter": "python",
   "pygments_lexer": "ipython3",
   "version": "3.12.8"
  }
 },
 "nbformat": 4,
 "nbformat_minor": 5
}
